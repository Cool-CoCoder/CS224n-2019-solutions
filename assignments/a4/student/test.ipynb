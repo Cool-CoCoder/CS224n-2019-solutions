{
 "cells": [
  {
   "cell_type": "code",
   "execution_count": 1,
   "metadata": {
    "collapsed": true,
    "ExecuteTime": {
     "end_time": "2023-06-14T04:47:21.420849Z",
     "start_time": "2023-06-14T04:47:18.986727Z"
    }
   },
   "outputs": [
    {
     "data": {
      "text/plain": "tensor([[0.4717, 0.1610, 0.7780],\n        [0.8414, 0.5713, 0.4966],\n        [0.8930, 0.3584, 0.5575],\n        [0.2574, 0.2251, 0.9208],\n        [0.2963, 0.9320, 0.1351],\n        [0.5532, 0.8541, 0.7430],\n        [0.8646, 0.7808, 0.7560]])"
     },
     "execution_count": 1,
     "metadata": {},
     "output_type": "execute_result"
    }
   ],
   "source": [
    "import torch\n",
    "\n",
    "a = torch.rand((2,3))\n",
    "b = torch.rand((5,3))\n",
    "\n",
    "c = torch.concat((a,b),dim=0)\n",
    "c"
   ]
  },
  {
   "cell_type": "code",
   "execution_count": 12,
   "outputs": [
    {
     "data": {
      "text/plain": "torch.Size([5, 22, 1])"
     },
     "execution_count": 12,
     "metadata": {},
     "output_type": "execute_result"
    }
   ],
   "source": [
    "a = torch.rand((5,22,2))\n",
    "b = torch.rand((1,5,2))\n",
    "\n",
    "# print(b.permute(1,0,2).shape)\n",
    "torch.bmm(a,b.permute(1,2,0)).shape"
   ],
   "metadata": {
    "collapsed": false,
    "ExecuteTime": {
     "end_time": "2023-06-14T05:49:46.623471Z",
     "start_time": "2023-06-14T05:49:46.617213Z"
    }
   }
  },
  {
   "cell_type": "code",
   "execution_count": 3,
   "outputs": [
    {
     "data": {
      "text/plain": "tensor([[0.4013, 0.4308, 0.6497, 0.5102, 0.3682, 0.0968],\n        [0.7167, 0.0538, 0.4293, 0.5121, 0.8668, 0.2005],\n        [0.5975, 0.3100, 0.8210, 0.3770, 0.9778, 0.3886],\n        [0.4253, 0.8096, 0.6743, 0.3648, 0.6750, 0.1338],\n        [0.1856, 0.6491, 0.9701, 0.5697, 0.2830, 0.4768]])"
     },
     "execution_count": 3,
     "metadata": {},
     "output_type": "execute_result"
    }
   ],
   "source": [],
   "metadata": {
    "collapsed": false,
    "ExecuteTime": {
     "end_time": "2023-06-14T07:45:45.168020Z",
     "start_time": "2023-06-14T07:45:45.162280Z"
    }
   }
  }
 ],
 "metadata": {
  "kernelspec": {
   "display_name": "Python 3",
   "language": "python",
   "name": "python3"
  },
  "language_info": {
   "codemirror_mode": {
    "name": "ipython",
    "version": 2
   },
   "file_extension": ".py",
   "mimetype": "text/x-python",
   "name": "python",
   "nbconvert_exporter": "python",
   "pygments_lexer": "ipython2",
   "version": "2.7.6"
  }
 },
 "nbformat": 4,
 "nbformat_minor": 0
}
